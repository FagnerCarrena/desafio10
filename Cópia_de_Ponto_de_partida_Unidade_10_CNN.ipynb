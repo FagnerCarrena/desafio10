{
  "nbformat": 4,
  "nbformat_minor": 0,
  "metadata": {
    "colab": {
      "provenance": [],
      "include_colab_link": true
    },
    "kernelspec": {
      "name": "python3",
      "display_name": "Python 3"
    },
    "language_info": {
      "name": "python"
    }
  },
  "cells": [
    {
      "cell_type": "markdown",
      "metadata": {
        "id": "view-in-github",
        "colab_type": "text"
      },
      "source": [
        "<a href=\"https://colab.research.google.com/github/FagnerCarrena/desafio10/blob/main/C%C3%B3pia_de_Ponto_de_partida_Unidade_10_CNN.ipynb\" target=\"_parent\"><img src=\"https://colab.research.google.com/assets/colab-badge.svg\" alt=\"Open In Colab\"/></a>"
      ]
    },
    {
      "cell_type": "code",
      "execution_count": 1,
      "metadata": {
        "colab": {
          "base_uri": "https://localhost:8080/"
        },
        "id": "1Ny1sbKgWx0D",
        "outputId": "6e8f4a0d-3b95-40bc-bf1a-6e965458536a"
      },
      "outputs": [
        {
          "output_type": "stream",
          "name": "stdout",
          "text": [
            "Requirement already satisfied: kaggle in /usr/local/lib/python3.10/dist-packages (1.6.17)\n",
            "Requirement already satisfied: six>=1.10 in /usr/local/lib/python3.10/dist-packages (from kaggle) (1.16.0)\n",
            "Requirement already satisfied: certifi>=2023.7.22 in /usr/local/lib/python3.10/dist-packages (from kaggle) (2024.8.30)\n",
            "Requirement already satisfied: python-dateutil in /usr/local/lib/python3.10/dist-packages (from kaggle) (2.8.2)\n",
            "Requirement already satisfied: requests in /usr/local/lib/python3.10/dist-packages (from kaggle) (2.32.3)\n",
            "Requirement already satisfied: tqdm in /usr/local/lib/python3.10/dist-packages (from kaggle) (4.66.6)\n",
            "Requirement already satisfied: python-slugify in /usr/local/lib/python3.10/dist-packages (from kaggle) (8.0.4)\n",
            "Requirement already satisfied: urllib3 in /usr/local/lib/python3.10/dist-packages (from kaggle) (2.2.3)\n",
            "Requirement already satisfied: bleach in /usr/local/lib/python3.10/dist-packages (from kaggle) (6.2.0)\n",
            "Requirement already satisfied: webencodings in /usr/local/lib/python3.10/dist-packages (from bleach->kaggle) (0.5.1)\n",
            "Requirement already satisfied: text-unidecode>=1.3 in /usr/local/lib/python3.10/dist-packages (from python-slugify->kaggle) (1.3)\n",
            "Requirement already satisfied: charset-normalizer<4,>=2 in /usr/local/lib/python3.10/dist-packages (from requests->kaggle) (3.4.0)\n",
            "Requirement already satisfied: idna<4,>=2.5 in /usr/local/lib/python3.10/dist-packages (from requests->kaggle) (3.10)\n",
            "Dataset URL: https://www.kaggle.com/datasets/arbazkhan971/cuhk-face-sketch-database-cufs\n",
            "License(s): copyright-authors\n",
            "Downloading cuhk-face-sketch-database-cufs.zip to /content\n",
            " 90% 102M/113M [00:00<00:00, 134MB/s] \n",
            "100% 113M/113M [00:01<00:00, 104MB/s]\n"
          ]
        }
      ],
      "source": [
        "import os\n",
        "\n",
        "!pip install kaggle\n",
        "!kaggle datasets download -d arbazkhan971/cuhk-face-sketch-database-cufs --force\n",
        "!unzip -oq \"cuhk-face-sketch-database-cufs.zip\"\n",
        "\n",
        "def list_files_in_folder(folder_path):\n",
        "  \"\"\"Lists all files in a given folder.\"\"\"\n",
        "  try:\n",
        "    file_list = os.listdir(folder_path)\n",
        "    return file_list\n",
        "  except FileNotFoundError:\n",
        "    print(f\"Error: Folder not found at {folder_path}\")\n",
        "    return []\n",
        "\n",
        "photos_folder = \"photos\"\n",
        "files_in_photos = list_files_in_folder(photos_folder)"
      ]
    },
    {
      "cell_type": "code",
      "source": [
        "print(files_in_photos)\n",
        "print(len(files_in_photos))"
      ],
      "metadata": {
        "colab": {
          "base_uri": "https://localhost:8080/"
        },
        "id": "qCj9I4mlWzlv",
        "outputId": "7805944c-4af7-47bb-d1f5-ce419dbdf76e"
      },
      "execution_count": 2,
      "outputs": [
        {
          "output_type": "stream",
          "name": "stdout",
          "text": [
            "['m-036-01.jpg', 'f-011-01.jpg', 'm-014-01.jpg', 'm-053-01.jpg', 'f1-012-01.jpg', 'f1-010-01.jpg', 'm-081-01.jpg', 'f-034-01.jpg', 'f-042-01.jpg', 'm1-026-01.jpg', 'f-026-01.jpg', 'm-051-01.jpg', 'm-093-01.jpg', 'f1-003-01.jpg', 'm1-005-01.jpg', 'm-031-01.jpg', 'f-029-01.jpg', 'm1-024-01.jpg', 'm-074-01.jpg', 'f-028-01.jpg', 'm-092-01.jpg', 'm-077-01.jpg', 'f-043-01.jpg', 'm-019-01.jpg', 'm-049-01.jpg', 'f-010-01.jpg', 'm1-009-01.jpg', 'f1-004-01.jpg', 'm-067-01.jpg', 'f-017-01.jpg', 'm-086-01.jpg', 'm-060-01.jpg', 'm-063-01.jpg', 'm-059-01.jpg', 'f-022-01.jpg', 'm-016-01.jpg', 'm1-002-01.jpg', 'm-048-01.jpg', 'm-096-01.jpg', 'm-085-01.jpg', 'm1-007-01.jpg', 'f-009-01.jpg', 'f1-008-01.jpg', 'm-042-01.jpg', 'm-012-01.jpg', 'm1-016-01.jpg', 'm1-031-01.jpg', 'm-047-01.jpg', 'm-021-01.jpg', 'm-011-01.jpg', 'm1-012-01.jpg', 'm-079-01.jpg', 'm-070-01.jpg', 'm-058-01.jpg', 'm-034-01.jpg', 'm-040-01.jpg', 'f1-001-01.jpg', 'm-075-01.jpg', 'm-095-01.jpg', 'm-054-01.jpg', 'f-012-01.jpg', 'f-033-01.jpg', 'm-008-01.jpg', 'f-024-01.jpg', 'm-029-01.jpg', 'm-100-01.jpg', 'm-062-01.jpg', 'm-037-01.jpg', 'm1-006-01.jpg', 'm-050-01.jpg', 'f1-007-01.jpg', 'm-044-01.jpg', 'm1-039-01.jpg', 'm-010-01.jpg', 'm-026-01.jpg', 'm1-019-01.jpg', 'f-007-01.jpg', 'm-030-01.jpg', 'm-088-01.jpg', 'f-015-01.jpg', 'f-005-01.jpg', 'f1-015-01.jpg', 'f1-006-01.jpg', 'f1-011-01.jpg', 'm-052-01.jpg', 'm-045-01.jpg', 'f-014-01.jpg', 'm-017-01.jpg', 'm-038-01.jpg', 'f-021-01.jpg', 'm1-015-01.jpg', 'm1-020-01.jpg', 'f-027-01.jpg', 'f-008-01.jpg', 'm-032-01.jpg', 'm-041-01.jpg', 'm1-040-01.jpg', 'f1-005-01.jpg', 'f-031-01.jpg', 'm-065-01.jpg', 'm1-034-01.jpg', 'm-024-01.jpg', 'm1-030-01.jpg', 'm1-038-01.jpg', 'm1-013-01.jpg', 'f-023-01.jpg', 'm1-023-01.jpg', 'm-091-01.jpg', 'f-019-01.jpg', 'm-097-01.jpg', 'm1-028-01.jpg', 'm1-014-01.jpg', 'm-082-01.jpg', 'm-064-01.jpg', 'f-040-01.jpg', 'f-036-01.jpg', 'm-094-01.jpg', 'm-080-01.jpg', 'm1-029-01.jpg', 'm1-001-01.jpg', 'm-071-01.jpg', 'm-028-01.jpg', 'm-039-01.jpg', 'm-023-01.jpg', 'm-099-01.jpg', 'f1-009-01.jpg', 'm-098-01.jpg', 'm1-003-01.jpg', 'm1-010-01.jpg', 'm1-037-01.jpg', 'm1-036-01.jpg', 'm1-032-01.jpg', 'm-069-01.jpg', 'm-078-01.jpg', 'f-035-01.jpg', 'm-057-01.jpg', 'm1-035-01.jpg', 'f-038-01.jpg', 'm-027-01.jpg', 'f-030-01.jpg', 'm-068-01.jpg', 'm-073-01.jpg', 'f1-002-01.jpg', 'f-020-01.jpg', 'm-055-01.jpg', 'm1-017-01.jpg', 'm-061-01.jpg', 'm1-025-01.jpg', 'm-087-01.jpg', 'f-018-01.jpg', 'f-025-01.jpg', 'm-015-01.jpg', 'f-037-01.jpg', 'f-006-01.jpg', 'm1-022-01.jpg', 'm1-004-01.jpg', 'm-072-01.jpg', 'f-016-01.jpg', 'f-039-01.jpg', 'f-032-01.jpg', 'm-056-01.jpg', 'm-046-01.jpg', 'm1-021-01.jpg', 'm-090-01.jpg', 'm-025-01.jpg', 'm-089-01.jpg', 'm-013-01.jpg', 'm1-018-01.jpg', 'm-009-01.jpg', 'f-041-01.jpg', 'm1-008-01.jpg', 'm-101-01.jpg', 'm1-033-01.jpg', 'm-083-01.jpg', 'm-022-01.jpg', 'm-084-01.jpg', 'm-076-01.jpg', 'm-066-01.jpg', 'f-013-01.jpg', 'm1-041-01.jpg', 'm-018-01.jpg', 'm-033-01.jpg', 'm1-027-01.jpg', 'm-035-01.jpg', 'f1-014-01.jpg', 'm-043-01.jpg', 'm1-011-01.jpg', 'f1-013-01.jpg']\n",
            "188\n"
          ]
        }
      ]
    },
    {
      "cell_type": "code",
      "source": [
        "import os\n",
        "import pandas as pd\n",
        "\n",
        "from PIL import Image\n",
        "import os\n",
        "import numpy as np\n",
        "from sklearn.model_selection import train_test_split\n",
        "\n",
        "\n",
        "\n",
        "photos_folder = \"photos\"\n",
        "files_in_photos = os.listdir(photos_folder)\n",
        "\n",
        "print(files_in_photos)  # Lista todos os arquivos\n",
        "print(len(files_in_photos))  # Verifica se há 188 imagens\n",
        "\n",
        "def label_images(files):\n",
        "    labels = []\n",
        "    for file in files:\n",
        "        if file.startswith(\"m-\"):\n",
        "            labels.append(0)  # Masculino\n",
        "        elif file.startswith(\"f-\"):\n",
        "            labels.append(1)  # Feminino\n",
        "        else:\n",
        "            labels.append(None)  # Caso não se enquadre\n",
        "    return labels\n",
        "\n",
        "    photos_folder = \"photos\"\n",
        "output_folder = \"processed_photos\"  # Pasta onde as imagens processadas serão salvas\n",
        "\n",
        "# Crie a pasta de saída, caso ainda não exista\n",
        "os.makedirs(output_folder, exist_ok=True)\n",
        "\n",
        "def process_images(input_folder, output_folder, target_size=(250, 200)):\n",
        "    processed_images = []\n",
        "    filenames = []\n",
        "\n",
        "    for file_name in os.listdir(input_folder):\n",
        "        file_path = os.path.join(input_folder, file_name)\n",
        "\n",
        "        try:\n",
        "            # Abrir a imagem\n",
        "            with Image.open(file_path) as img:\n",
        "                # Redimensionar para 250x200 pixels\n",
        "                img_resized = img.resize(target_size)\n",
        "\n",
        "                # Converter para numpy array e normalizar os valores para [0, 1]\n",
        "                img_array = np.array(img_resized) / 255.0\n",
        "\n",
        "                # Salvar a imagem processada na pasta de saída\n",
        "                save_path = os.path.join(output_folder, file_name)\n",
        "                img_resized.save(save_path)\n",
        "\n",
        "                # Armazenar a imagem processada e o nome do arquivo\n",
        "                processed_images.append(img_array)\n",
        "                filenames.append(file_name)\n",
        "\n",
        "        except Exception as e:\n",
        "            print(f\"Erro ao processar a imagem {file_name}: {e}\")\n",
        "\n",
        "    return processed_images, filenames\n",
        "\n",
        "processed_images, filenames = process_images(photos_folder, output_folder)\n",
        "\n",
        "print(f\"Total de imagens processadas: {len(processed_images)}\")\n",
        "\n",
        "# Exemplo: Verifique o formato e os valores da primeira imagem processada\n",
        "print(f\"Formato da primeira imagem: {processed_images[0].shape}\")\n",
        "print(f\"Valores mínimos e máximos: {processed_images[0].min()}, {processed_images[0].max()}\")\n",
        "\n",
        "\n",
        "\n",
        "\n",
        "def label_images(files):\n",
        "    labels = []\n",
        "    for file in files:\n",
        "        if file.startswith(\"m-\"):\n",
        "            labels.append(0)  # Masculino\n",
        "        elif file.startswith(\"f-\"):\n",
        "            labels.append(1)  # Feminino\n",
        "        else:\n",
        "            labels.append(None)  # Caso não se enquadre\n",
        "    return labels\n",
        "\n",
        "    # Substituir None por um valor padrão ou remover exemplos inválidos\n",
        "labels = [label for label in labels if label is not None]\n",
        "labels = np.array(labels, dtype=np.float32)\n",
        "\n",
        "\n",
        "# Gerar a lista de rótulos\n",
        "labels = label_images(os.listdir(photos_folder))\n",
        "\n",
        "\n",
        "\n",
        "\n",
        "\n",
        "\n",
        "\n",
        "\n",
        "\n",
        "\n",
        "# Configurar seed para replicabilidade\n",
        "np.random.seed(23)\n",
        "\n",
        "# Converter dados para arrays numpy\n",
        "processed_images = np.array(processed_images)\n",
        "labels = np.array(labels)\n",
        "\n",
        "# Primeira divisão: 50% treino e 50% restante\n",
        "X_train, X_temp, y_train, y_temp = train_test_split(\n",
        "    processed_images, labels, test_size=0.5, random_state=23)\n",
        "\n",
        "# Segunda divisão: Dividir os 50% restantes em 30% validação e 20% teste\n",
        "X_val, X_test, y_val, y_test = train_test_split(\n",
        "    X_temp, y_temp, test_size=0.4, random_state=23)  # 40% de X_temp é 20% do total original\n",
        "\n",
        "\n",
        "print(f\"Treino: {len(X_train)} imagens ({len(X_train)/len(processed_images):.2%})\")\n",
        "print(f\"Validação: {len(X_val)} imagens ({len(X_val)/len(processed_images):.2%})\")\n",
        "print(f\"Teste: {len(X_test)} imagens ({len(X_test)/len(processed_images):.2%})\")\n",
        "\n",
        "\n",
        "\n",
        "\n",
        "\n"
      ],
      "metadata": {
        "colab": {
          "base_uri": "https://localhost:8080/"
        },
        "id": "wKqroyxo3FcQ",
        "outputId": "08e03533-2b3c-428d-c385-d517cab6247e"
      },
      "execution_count": 41,
      "outputs": [
        {
          "output_type": "stream",
          "name": "stdout",
          "text": [
            "['m-036-01.jpg', 'f-011-01.jpg', 'm-014-01.jpg', 'm-053-01.jpg', 'f1-012-01.jpg', 'f1-010-01.jpg', 'm-081-01.jpg', 'f-034-01.jpg', 'f-042-01.jpg', 'm1-026-01.jpg', 'f-026-01.jpg', 'm-051-01.jpg', 'm-093-01.jpg', 'f1-003-01.jpg', 'm1-005-01.jpg', 'm-031-01.jpg', 'f-029-01.jpg', 'm1-024-01.jpg', 'm-074-01.jpg', 'f-028-01.jpg', 'm-092-01.jpg', 'm-077-01.jpg', 'f-043-01.jpg', 'm-019-01.jpg', 'm-049-01.jpg', 'f-010-01.jpg', 'm1-009-01.jpg', 'f1-004-01.jpg', 'm-067-01.jpg', 'f-017-01.jpg', 'm-086-01.jpg', 'm-060-01.jpg', 'm-063-01.jpg', 'm-059-01.jpg', 'f-022-01.jpg', 'm-016-01.jpg', 'm1-002-01.jpg', 'm-048-01.jpg', 'm-096-01.jpg', 'm-085-01.jpg', 'm1-007-01.jpg', 'f-009-01.jpg', 'f1-008-01.jpg', 'm-042-01.jpg', 'm-012-01.jpg', 'm1-016-01.jpg', 'm1-031-01.jpg', 'm-047-01.jpg', 'm-021-01.jpg', 'm-011-01.jpg', 'm1-012-01.jpg', 'm-079-01.jpg', 'm-070-01.jpg', 'm-058-01.jpg', 'm-034-01.jpg', 'm-040-01.jpg', 'f1-001-01.jpg', 'm-075-01.jpg', 'm-095-01.jpg', 'm-054-01.jpg', 'f-012-01.jpg', 'f-033-01.jpg', 'm-008-01.jpg', 'f-024-01.jpg', 'm-029-01.jpg', 'm-100-01.jpg', 'm-062-01.jpg', 'm-037-01.jpg', 'm1-006-01.jpg', 'm-050-01.jpg', 'f1-007-01.jpg', 'm-044-01.jpg', 'm1-039-01.jpg', 'm-010-01.jpg', 'm-026-01.jpg', 'm1-019-01.jpg', 'f-007-01.jpg', 'm-030-01.jpg', 'm-088-01.jpg', 'f-015-01.jpg', 'f-005-01.jpg', 'f1-015-01.jpg', 'f1-006-01.jpg', 'f1-011-01.jpg', 'm-052-01.jpg', 'm-045-01.jpg', 'f-014-01.jpg', 'm-017-01.jpg', 'm-038-01.jpg', 'f-021-01.jpg', 'm1-015-01.jpg', 'm1-020-01.jpg', 'f-027-01.jpg', 'f-008-01.jpg', 'm-032-01.jpg', 'm-041-01.jpg', 'm1-040-01.jpg', 'f1-005-01.jpg', 'f-031-01.jpg', 'm-065-01.jpg', 'm1-034-01.jpg', 'm-024-01.jpg', 'm1-030-01.jpg', 'm1-038-01.jpg', 'm1-013-01.jpg', 'f-023-01.jpg', 'm1-023-01.jpg', 'm-091-01.jpg', 'f-019-01.jpg', 'm-097-01.jpg', 'm1-028-01.jpg', 'm1-014-01.jpg', 'm-082-01.jpg', 'm-064-01.jpg', 'f-040-01.jpg', 'f-036-01.jpg', 'm-094-01.jpg', 'm-080-01.jpg', 'm1-029-01.jpg', 'm1-001-01.jpg', 'm-071-01.jpg', 'm-028-01.jpg', 'm-039-01.jpg', 'm-023-01.jpg', 'm-099-01.jpg', 'f1-009-01.jpg', 'm-098-01.jpg', 'm1-003-01.jpg', 'm1-010-01.jpg', 'm1-037-01.jpg', 'm1-036-01.jpg', 'm1-032-01.jpg', 'm-069-01.jpg', 'm-078-01.jpg', 'f-035-01.jpg', 'm-057-01.jpg', 'm1-035-01.jpg', 'f-038-01.jpg', 'm-027-01.jpg', 'f-030-01.jpg', 'm-068-01.jpg', 'm-073-01.jpg', 'f1-002-01.jpg', 'f-020-01.jpg', 'm-055-01.jpg', 'm1-017-01.jpg', 'm-061-01.jpg', 'm1-025-01.jpg', 'm-087-01.jpg', 'f-018-01.jpg', 'f-025-01.jpg', 'm-015-01.jpg', 'f-037-01.jpg', 'f-006-01.jpg', 'm1-022-01.jpg', 'm1-004-01.jpg', 'm-072-01.jpg', 'f-016-01.jpg', 'f-039-01.jpg', 'f-032-01.jpg', 'm-056-01.jpg', 'm-046-01.jpg', 'm1-021-01.jpg', 'm-090-01.jpg', 'm-025-01.jpg', 'm-089-01.jpg', 'm-013-01.jpg', 'm1-018-01.jpg', 'm-009-01.jpg', 'f-041-01.jpg', 'm1-008-01.jpg', 'm-101-01.jpg', 'm1-033-01.jpg', 'm-083-01.jpg', 'm-022-01.jpg', 'm-084-01.jpg', 'm-076-01.jpg', 'm-066-01.jpg', 'f-013-01.jpg', 'm1-041-01.jpg', 'm-018-01.jpg', 'm-033-01.jpg', 'm1-027-01.jpg', 'm-035-01.jpg', 'f1-014-01.jpg', 'm-043-01.jpg', 'm1-011-01.jpg', 'f1-013-01.jpg']\n",
            "188\n",
            "Total de imagens processadas: 188\n",
            "Formato da primeira imagem: (200, 250, 3)\n",
            "Valores mínimos e máximos: 0.0, 1.0\n",
            "Treino: 94 imagens (50.00%)\n",
            "Validação: 56 imagens (29.79%)\n",
            "Teste: 38 imagens (20.21%)\n"
          ]
        }
      ]
    },
    {
      "cell_type": "code",
      "source": [
        "from tensorflow.keras.models import Sequential\n",
        "from tensorflow.keras.layers import Conv2D, MaxPooling2D, Flatten, Dense, Dropout\n",
        "from tensorflow.keras.optimizers import Adam\n",
        "\n",
        "\n",
        "\n",
        "# Verificar as dimensões das entradas e saídas\n",
        "print(f\"Dimensão das imagens de entrada: {X_train.shape}\")\n",
        "print(f\"Quantidade de rótulos de treino: {len(y_train)}\")\n",
        "\n",
        "def create_cnn_model(input_shape):\n",
        "    model = Sequential()\n",
        "\n",
        "    # Camada convolucional 1\n",
        "    model.add(Conv2D(32, (3, 3), activation='relu', input_shape=input_shape))\n",
        "    model.add(MaxPooling2D((2, 2)))\n",
        "\n",
        "    # Camada convolucional 2\n",
        "    model.add(Conv2D(64, (3, 3), activation='relu'))\n",
        "    model.add(MaxPooling2D((2, 2)))\n",
        "\n",
        "    # Camada convolucional 3\n",
        "    model.add(Conv2D(128, (3, 3), activation='relu'))\n",
        "    model.add(MaxPooling2D((2, 2)))\n",
        "\n",
        "    # Camada de Flatten (achatamento)\n",
        "    model.add(Flatten())\n",
        "\n",
        "    # Camada totalmente conectada (Fully Connected)\n",
        "    model.add(Dense(128, activation='relu'))\n",
        "    model.add(Dropout(0.5))  # Regularização para evitar overfitting\n",
        "\n",
        "    # Saída (2 classes: Masculino e Feminino)\n",
        "    model.add(Dense(1, activation='sigmoid'))  # Saída binária\n",
        "\n",
        "    return model\n",
        "\n",
        "input_shape = (250, 200, 3)  # Altura, largura, canais (RGB)\n",
        "model = create_cnn_model(input_shape)\n",
        "\n",
        "# Compilar o modelo\n",
        "model.compile(optimizer=Adam(learning_rate=0.001),\n",
        "              loss='binary_crossentropy',  # Função de perda para classificação binária\n",
        "              metrics=['accuracy'])\n",
        "\n",
        "# Resumo do modelo\n",
        "model.summary()\n",
        "\n"
      ],
      "metadata": {
        "colab": {
          "base_uri": "https://localhost:8080/",
          "height": 495
        },
        "id": "yI6vhrY-AJvI",
        "outputId": "30c1a89b-6d60-4f4b-a1c1-8ed11a1501c0"
      },
      "execution_count": 14,
      "outputs": [
        {
          "output_type": "stream",
          "name": "stdout",
          "text": [
            "Dimensão das imagens de entrada: (94, 200, 250, 3)\n",
            "Quantidade de rótulos de treino: 94\n"
          ]
        },
        {
          "output_type": "display_data",
          "data": {
            "text/plain": [
              "\u001b[1mModel: \"sequential_1\"\u001b[0m\n"
            ],
            "text/html": [
              "<pre style=\"white-space:pre;overflow-x:auto;line-height:normal;font-family:Menlo,'DejaVu Sans Mono',consolas,'Courier New',monospace\"><span style=\"font-weight: bold\">Model: \"sequential_1\"</span>\n",
              "</pre>\n"
            ]
          },
          "metadata": {}
        },
        {
          "output_type": "display_data",
          "data": {
            "text/plain": [
              "┏━━━━━━━━━━━━━━━━━━━━━━━━━━━━━━━━━━━━━━┳━━━━━━━━━━━━━━━━━━━━━━━━━━━━━┳━━━━━━━━━━━━━━━━━┓\n",
              "┃\u001b[1m \u001b[0m\u001b[1mLayer (type)                        \u001b[0m\u001b[1m \u001b[0m┃\u001b[1m \u001b[0m\u001b[1mOutput Shape               \u001b[0m\u001b[1m \u001b[0m┃\u001b[1m \u001b[0m\u001b[1m        Param #\u001b[0m\u001b[1m \u001b[0m┃\n",
              "┡━━━━━━━━━━━━━━━━━━━━━━━━━━━━━━━━━━━━━━╇━━━━━━━━━━━━━━━━━━━━━━━━━━━━━╇━━━━━━━━━━━━━━━━━┩\n",
              "│ conv2d_3 (\u001b[38;5;33mConv2D\u001b[0m)                    │ (\u001b[38;5;45mNone\u001b[0m, \u001b[38;5;34m248\u001b[0m, \u001b[38;5;34m198\u001b[0m, \u001b[38;5;34m32\u001b[0m)        │             \u001b[38;5;34m896\u001b[0m │\n",
              "├──────────────────────────────────────┼─────────────────────────────┼─────────────────┤\n",
              "│ max_pooling2d_3 (\u001b[38;5;33mMaxPooling2D\u001b[0m)       │ (\u001b[38;5;45mNone\u001b[0m, \u001b[38;5;34m124\u001b[0m, \u001b[38;5;34m99\u001b[0m, \u001b[38;5;34m32\u001b[0m)         │               \u001b[38;5;34m0\u001b[0m │\n",
              "├──────────────────────────────────────┼─────────────────────────────┼─────────────────┤\n",
              "│ conv2d_4 (\u001b[38;5;33mConv2D\u001b[0m)                    │ (\u001b[38;5;45mNone\u001b[0m, \u001b[38;5;34m122\u001b[0m, \u001b[38;5;34m97\u001b[0m, \u001b[38;5;34m64\u001b[0m)         │          \u001b[38;5;34m18,496\u001b[0m │\n",
              "├──────────────────────────────────────┼─────────────────────────────┼─────────────────┤\n",
              "│ max_pooling2d_4 (\u001b[38;5;33mMaxPooling2D\u001b[0m)       │ (\u001b[38;5;45mNone\u001b[0m, \u001b[38;5;34m61\u001b[0m, \u001b[38;5;34m48\u001b[0m, \u001b[38;5;34m64\u001b[0m)          │               \u001b[38;5;34m0\u001b[0m │\n",
              "├──────────────────────────────────────┼─────────────────────────────┼─────────────────┤\n",
              "│ conv2d_5 (\u001b[38;5;33mConv2D\u001b[0m)                    │ (\u001b[38;5;45mNone\u001b[0m, \u001b[38;5;34m59\u001b[0m, \u001b[38;5;34m46\u001b[0m, \u001b[38;5;34m128\u001b[0m)         │          \u001b[38;5;34m73,856\u001b[0m │\n",
              "├──────────────────────────────────────┼─────────────────────────────┼─────────────────┤\n",
              "│ max_pooling2d_5 (\u001b[38;5;33mMaxPooling2D\u001b[0m)       │ (\u001b[38;5;45mNone\u001b[0m, \u001b[38;5;34m29\u001b[0m, \u001b[38;5;34m23\u001b[0m, \u001b[38;5;34m128\u001b[0m)         │               \u001b[38;5;34m0\u001b[0m │\n",
              "├──────────────────────────────────────┼─────────────────────────────┼─────────────────┤\n",
              "│ flatten_1 (\u001b[38;5;33mFlatten\u001b[0m)                  │ (\u001b[38;5;45mNone\u001b[0m, \u001b[38;5;34m85376\u001b[0m)               │               \u001b[38;5;34m0\u001b[0m │\n",
              "├──────────────────────────────────────┼─────────────────────────────┼─────────────────┤\n",
              "│ dense_2 (\u001b[38;5;33mDense\u001b[0m)                      │ (\u001b[38;5;45mNone\u001b[0m, \u001b[38;5;34m128\u001b[0m)                 │      \u001b[38;5;34m10,928,256\u001b[0m │\n",
              "├──────────────────────────────────────┼─────────────────────────────┼─────────────────┤\n",
              "│ dropout_1 (\u001b[38;5;33mDropout\u001b[0m)                  │ (\u001b[38;5;45mNone\u001b[0m, \u001b[38;5;34m128\u001b[0m)                 │               \u001b[38;5;34m0\u001b[0m │\n",
              "├──────────────────────────────────────┼─────────────────────────────┼─────────────────┤\n",
              "│ dense_3 (\u001b[38;5;33mDense\u001b[0m)                      │ (\u001b[38;5;45mNone\u001b[0m, \u001b[38;5;34m1\u001b[0m)                   │             \u001b[38;5;34m129\u001b[0m │\n",
              "└──────────────────────────────────────┴─────────────────────────────┴─────────────────┘\n"
            ],
            "text/html": [
              "<pre style=\"white-space:pre;overflow-x:auto;line-height:normal;font-family:Menlo,'DejaVu Sans Mono',consolas,'Courier New',monospace\">┏━━━━━━━━━━━━━━━━━━━━━━━━━━━━━━━━━━━━━━┳━━━━━━━━━━━━━━━━━━━━━━━━━━━━━┳━━━━━━━━━━━━━━━━━┓\n",
              "┃<span style=\"font-weight: bold\"> Layer (type)                         </span>┃<span style=\"font-weight: bold\"> Output Shape                </span>┃<span style=\"font-weight: bold\">         Param # </span>┃\n",
              "┡━━━━━━━━━━━━━━━━━━━━━━━━━━━━━━━━━━━━━━╇━━━━━━━━━━━━━━━━━━━━━━━━━━━━━╇━━━━━━━━━━━━━━━━━┩\n",
              "│ conv2d_3 (<span style=\"color: #0087ff; text-decoration-color: #0087ff\">Conv2D</span>)                    │ (<span style=\"color: #00d7ff; text-decoration-color: #00d7ff\">None</span>, <span style=\"color: #00af00; text-decoration-color: #00af00\">248</span>, <span style=\"color: #00af00; text-decoration-color: #00af00\">198</span>, <span style=\"color: #00af00; text-decoration-color: #00af00\">32</span>)        │             <span style=\"color: #00af00; text-decoration-color: #00af00\">896</span> │\n",
              "├──────────────────────────────────────┼─────────────────────────────┼─────────────────┤\n",
              "│ max_pooling2d_3 (<span style=\"color: #0087ff; text-decoration-color: #0087ff\">MaxPooling2D</span>)       │ (<span style=\"color: #00d7ff; text-decoration-color: #00d7ff\">None</span>, <span style=\"color: #00af00; text-decoration-color: #00af00\">124</span>, <span style=\"color: #00af00; text-decoration-color: #00af00\">99</span>, <span style=\"color: #00af00; text-decoration-color: #00af00\">32</span>)         │               <span style=\"color: #00af00; text-decoration-color: #00af00\">0</span> │\n",
              "├──────────────────────────────────────┼─────────────────────────────┼─────────────────┤\n",
              "│ conv2d_4 (<span style=\"color: #0087ff; text-decoration-color: #0087ff\">Conv2D</span>)                    │ (<span style=\"color: #00d7ff; text-decoration-color: #00d7ff\">None</span>, <span style=\"color: #00af00; text-decoration-color: #00af00\">122</span>, <span style=\"color: #00af00; text-decoration-color: #00af00\">97</span>, <span style=\"color: #00af00; text-decoration-color: #00af00\">64</span>)         │          <span style=\"color: #00af00; text-decoration-color: #00af00\">18,496</span> │\n",
              "├──────────────────────────────────────┼─────────────────────────────┼─────────────────┤\n",
              "│ max_pooling2d_4 (<span style=\"color: #0087ff; text-decoration-color: #0087ff\">MaxPooling2D</span>)       │ (<span style=\"color: #00d7ff; text-decoration-color: #00d7ff\">None</span>, <span style=\"color: #00af00; text-decoration-color: #00af00\">61</span>, <span style=\"color: #00af00; text-decoration-color: #00af00\">48</span>, <span style=\"color: #00af00; text-decoration-color: #00af00\">64</span>)          │               <span style=\"color: #00af00; text-decoration-color: #00af00\">0</span> │\n",
              "├──────────────────────────────────────┼─────────────────────────────┼─────────────────┤\n",
              "│ conv2d_5 (<span style=\"color: #0087ff; text-decoration-color: #0087ff\">Conv2D</span>)                    │ (<span style=\"color: #00d7ff; text-decoration-color: #00d7ff\">None</span>, <span style=\"color: #00af00; text-decoration-color: #00af00\">59</span>, <span style=\"color: #00af00; text-decoration-color: #00af00\">46</span>, <span style=\"color: #00af00; text-decoration-color: #00af00\">128</span>)         │          <span style=\"color: #00af00; text-decoration-color: #00af00\">73,856</span> │\n",
              "├──────────────────────────────────────┼─────────────────────────────┼─────────────────┤\n",
              "│ max_pooling2d_5 (<span style=\"color: #0087ff; text-decoration-color: #0087ff\">MaxPooling2D</span>)       │ (<span style=\"color: #00d7ff; text-decoration-color: #00d7ff\">None</span>, <span style=\"color: #00af00; text-decoration-color: #00af00\">29</span>, <span style=\"color: #00af00; text-decoration-color: #00af00\">23</span>, <span style=\"color: #00af00; text-decoration-color: #00af00\">128</span>)         │               <span style=\"color: #00af00; text-decoration-color: #00af00\">0</span> │\n",
              "├──────────────────────────────────────┼─────────────────────────────┼─────────────────┤\n",
              "│ flatten_1 (<span style=\"color: #0087ff; text-decoration-color: #0087ff\">Flatten</span>)                  │ (<span style=\"color: #00d7ff; text-decoration-color: #00d7ff\">None</span>, <span style=\"color: #00af00; text-decoration-color: #00af00\">85376</span>)               │               <span style=\"color: #00af00; text-decoration-color: #00af00\">0</span> │\n",
              "├──────────────────────────────────────┼─────────────────────────────┼─────────────────┤\n",
              "│ dense_2 (<span style=\"color: #0087ff; text-decoration-color: #0087ff\">Dense</span>)                      │ (<span style=\"color: #00d7ff; text-decoration-color: #00d7ff\">None</span>, <span style=\"color: #00af00; text-decoration-color: #00af00\">128</span>)                 │      <span style=\"color: #00af00; text-decoration-color: #00af00\">10,928,256</span> │\n",
              "├──────────────────────────────────────┼─────────────────────────────┼─────────────────┤\n",
              "│ dropout_1 (<span style=\"color: #0087ff; text-decoration-color: #0087ff\">Dropout</span>)                  │ (<span style=\"color: #00d7ff; text-decoration-color: #00d7ff\">None</span>, <span style=\"color: #00af00; text-decoration-color: #00af00\">128</span>)                 │               <span style=\"color: #00af00; text-decoration-color: #00af00\">0</span> │\n",
              "├──────────────────────────────────────┼─────────────────────────────┼─────────────────┤\n",
              "│ dense_3 (<span style=\"color: #0087ff; text-decoration-color: #0087ff\">Dense</span>)                      │ (<span style=\"color: #00d7ff; text-decoration-color: #00d7ff\">None</span>, <span style=\"color: #00af00; text-decoration-color: #00af00\">1</span>)                   │             <span style=\"color: #00af00; text-decoration-color: #00af00\">129</span> │\n",
              "└──────────────────────────────────────┴─────────────────────────────┴─────────────────┘\n",
              "</pre>\n"
            ]
          },
          "metadata": {}
        },
        {
          "output_type": "display_data",
          "data": {
            "text/plain": [
              "\u001b[1m Total params: \u001b[0m\u001b[38;5;34m11,021,633\u001b[0m (42.04 MB)\n"
            ],
            "text/html": [
              "<pre style=\"white-space:pre;overflow-x:auto;line-height:normal;font-family:Menlo,'DejaVu Sans Mono',consolas,'Courier New',monospace\"><span style=\"font-weight: bold\"> Total params: </span><span style=\"color: #00af00; text-decoration-color: #00af00\">11,021,633</span> (42.04 MB)\n",
              "</pre>\n"
            ]
          },
          "metadata": {}
        },
        {
          "output_type": "display_data",
          "data": {
            "text/plain": [
              "\u001b[1m Trainable params: \u001b[0m\u001b[38;5;34m11,021,633\u001b[0m (42.04 MB)\n"
            ],
            "text/html": [
              "<pre style=\"white-space:pre;overflow-x:auto;line-height:normal;font-family:Menlo,'DejaVu Sans Mono',consolas,'Courier New',monospace\"><span style=\"font-weight: bold\"> Trainable params: </span><span style=\"color: #00af00; text-decoration-color: #00af00\">11,021,633</span> (42.04 MB)\n",
              "</pre>\n"
            ]
          },
          "metadata": {}
        },
        {
          "output_type": "display_data",
          "data": {
            "text/plain": [
              "\u001b[1m Non-trainable params: \u001b[0m\u001b[38;5;34m0\u001b[0m (0.00 B)\n"
            ],
            "text/html": [
              "<pre style=\"white-space:pre;overflow-x:auto;line-height:normal;font-family:Menlo,'DejaVu Sans Mono',consolas,'Courier New',monospace\"><span style=\"font-weight: bold\"> Non-trainable params: </span><span style=\"color: #00af00; text-decoration-color: #00af00\">0</span> (0.00 B)\n",
              "</pre>\n"
            ]
          },
          "metadata": {}
        }
      ]
    },
    {
      "cell_type": "code",
      "source": [
        "input_shape = (250, 200, 3)  # Altura, largura, canais (RGB)\n",
        "model = create_cnn_model(input_shape)\n",
        "\n",
        "# Compilar o modelo\n",
        "model.compile(optimizer=Adam(learning_rate=0.001),\n",
        "              loss='binary_crossentropy',  # Função de perda para classificação binária\n",
        "              metrics=['accuracy'])\n",
        "\n",
        "# Resumo do modelo\n",
        "model.summary()\n"
      ],
      "metadata": {
        "colab": {
          "base_uri": "https://localhost:8080/",
          "height": 459
        },
        "id": "p_-itjsYCUsU",
        "outputId": "b8f8244c-7eac-41be-a434-39b14d7822cc"
      },
      "execution_count": 15,
      "outputs": [
        {
          "output_type": "display_data",
          "data": {
            "text/plain": [
              "\u001b[1mModel: \"sequential_2\"\u001b[0m\n"
            ],
            "text/html": [
              "<pre style=\"white-space:pre;overflow-x:auto;line-height:normal;font-family:Menlo,'DejaVu Sans Mono',consolas,'Courier New',monospace\"><span style=\"font-weight: bold\">Model: \"sequential_2\"</span>\n",
              "</pre>\n"
            ]
          },
          "metadata": {}
        },
        {
          "output_type": "display_data",
          "data": {
            "text/plain": [
              "┏━━━━━━━━━━━━━━━━━━━━━━━━━━━━━━━━━━━━━━┳━━━━━━━━━━━━━━━━━━━━━━━━━━━━━┳━━━━━━━━━━━━━━━━━┓\n",
              "┃\u001b[1m \u001b[0m\u001b[1mLayer (type)                        \u001b[0m\u001b[1m \u001b[0m┃\u001b[1m \u001b[0m\u001b[1mOutput Shape               \u001b[0m\u001b[1m \u001b[0m┃\u001b[1m \u001b[0m\u001b[1m        Param #\u001b[0m\u001b[1m \u001b[0m┃\n",
              "┡━━━━━━━━━━━━━━━━━━━━━━━━━━━━━━━━━━━━━━╇━━━━━━━━━━━━━━━━━━━━━━━━━━━━━╇━━━━━━━━━━━━━━━━━┩\n",
              "│ conv2d_6 (\u001b[38;5;33mConv2D\u001b[0m)                    │ (\u001b[38;5;45mNone\u001b[0m, \u001b[38;5;34m248\u001b[0m, \u001b[38;5;34m198\u001b[0m, \u001b[38;5;34m32\u001b[0m)        │             \u001b[38;5;34m896\u001b[0m │\n",
              "├──────────────────────────────────────┼─────────────────────────────┼─────────────────┤\n",
              "│ max_pooling2d_6 (\u001b[38;5;33mMaxPooling2D\u001b[0m)       │ (\u001b[38;5;45mNone\u001b[0m, \u001b[38;5;34m124\u001b[0m, \u001b[38;5;34m99\u001b[0m, \u001b[38;5;34m32\u001b[0m)         │               \u001b[38;5;34m0\u001b[0m │\n",
              "├──────────────────────────────────────┼─────────────────────────────┼─────────────────┤\n",
              "│ conv2d_7 (\u001b[38;5;33mConv2D\u001b[0m)                    │ (\u001b[38;5;45mNone\u001b[0m, \u001b[38;5;34m122\u001b[0m, \u001b[38;5;34m97\u001b[0m, \u001b[38;5;34m64\u001b[0m)         │          \u001b[38;5;34m18,496\u001b[0m │\n",
              "├──────────────────────────────────────┼─────────────────────────────┼─────────────────┤\n",
              "│ max_pooling2d_7 (\u001b[38;5;33mMaxPooling2D\u001b[0m)       │ (\u001b[38;5;45mNone\u001b[0m, \u001b[38;5;34m61\u001b[0m, \u001b[38;5;34m48\u001b[0m, \u001b[38;5;34m64\u001b[0m)          │               \u001b[38;5;34m0\u001b[0m │\n",
              "├──────────────────────────────────────┼─────────────────────────────┼─────────────────┤\n",
              "│ conv2d_8 (\u001b[38;5;33mConv2D\u001b[0m)                    │ (\u001b[38;5;45mNone\u001b[0m, \u001b[38;5;34m59\u001b[0m, \u001b[38;5;34m46\u001b[0m, \u001b[38;5;34m128\u001b[0m)         │          \u001b[38;5;34m73,856\u001b[0m │\n",
              "├──────────────────────────────────────┼─────────────────────────────┼─────────────────┤\n",
              "│ max_pooling2d_8 (\u001b[38;5;33mMaxPooling2D\u001b[0m)       │ (\u001b[38;5;45mNone\u001b[0m, \u001b[38;5;34m29\u001b[0m, \u001b[38;5;34m23\u001b[0m, \u001b[38;5;34m128\u001b[0m)         │               \u001b[38;5;34m0\u001b[0m │\n",
              "├──────────────────────────────────────┼─────────────────────────────┼─────────────────┤\n",
              "│ flatten_2 (\u001b[38;5;33mFlatten\u001b[0m)                  │ (\u001b[38;5;45mNone\u001b[0m, \u001b[38;5;34m85376\u001b[0m)               │               \u001b[38;5;34m0\u001b[0m │\n",
              "├──────────────────────────────────────┼─────────────────────────────┼─────────────────┤\n",
              "│ dense_4 (\u001b[38;5;33mDense\u001b[0m)                      │ (\u001b[38;5;45mNone\u001b[0m, \u001b[38;5;34m128\u001b[0m)                 │      \u001b[38;5;34m10,928,256\u001b[0m │\n",
              "├──────────────────────────────────────┼─────────────────────────────┼─────────────────┤\n",
              "│ dropout_2 (\u001b[38;5;33mDropout\u001b[0m)                  │ (\u001b[38;5;45mNone\u001b[0m, \u001b[38;5;34m128\u001b[0m)                 │               \u001b[38;5;34m0\u001b[0m │\n",
              "├──────────────────────────────────────┼─────────────────────────────┼─────────────────┤\n",
              "│ dense_5 (\u001b[38;5;33mDense\u001b[0m)                      │ (\u001b[38;5;45mNone\u001b[0m, \u001b[38;5;34m1\u001b[0m)                   │             \u001b[38;5;34m129\u001b[0m │\n",
              "└──────────────────────────────────────┴─────────────────────────────┴─────────────────┘\n"
            ],
            "text/html": [
              "<pre style=\"white-space:pre;overflow-x:auto;line-height:normal;font-family:Menlo,'DejaVu Sans Mono',consolas,'Courier New',monospace\">┏━━━━━━━━━━━━━━━━━━━━━━━━━━━━━━━━━━━━━━┳━━━━━━━━━━━━━━━━━━━━━━━━━━━━━┳━━━━━━━━━━━━━━━━━┓\n",
              "┃<span style=\"font-weight: bold\"> Layer (type)                         </span>┃<span style=\"font-weight: bold\"> Output Shape                </span>┃<span style=\"font-weight: bold\">         Param # </span>┃\n",
              "┡━━━━━━━━━━━━━━━━━━━━━━━━━━━━━━━━━━━━━━╇━━━━━━━━━━━━━━━━━━━━━━━━━━━━━╇━━━━━━━━━━━━━━━━━┩\n",
              "│ conv2d_6 (<span style=\"color: #0087ff; text-decoration-color: #0087ff\">Conv2D</span>)                    │ (<span style=\"color: #00d7ff; text-decoration-color: #00d7ff\">None</span>, <span style=\"color: #00af00; text-decoration-color: #00af00\">248</span>, <span style=\"color: #00af00; text-decoration-color: #00af00\">198</span>, <span style=\"color: #00af00; text-decoration-color: #00af00\">32</span>)        │             <span style=\"color: #00af00; text-decoration-color: #00af00\">896</span> │\n",
              "├──────────────────────────────────────┼─────────────────────────────┼─────────────────┤\n",
              "│ max_pooling2d_6 (<span style=\"color: #0087ff; text-decoration-color: #0087ff\">MaxPooling2D</span>)       │ (<span style=\"color: #00d7ff; text-decoration-color: #00d7ff\">None</span>, <span style=\"color: #00af00; text-decoration-color: #00af00\">124</span>, <span style=\"color: #00af00; text-decoration-color: #00af00\">99</span>, <span style=\"color: #00af00; text-decoration-color: #00af00\">32</span>)         │               <span style=\"color: #00af00; text-decoration-color: #00af00\">0</span> │\n",
              "├──────────────────────────────────────┼─────────────────────────────┼─────────────────┤\n",
              "│ conv2d_7 (<span style=\"color: #0087ff; text-decoration-color: #0087ff\">Conv2D</span>)                    │ (<span style=\"color: #00d7ff; text-decoration-color: #00d7ff\">None</span>, <span style=\"color: #00af00; text-decoration-color: #00af00\">122</span>, <span style=\"color: #00af00; text-decoration-color: #00af00\">97</span>, <span style=\"color: #00af00; text-decoration-color: #00af00\">64</span>)         │          <span style=\"color: #00af00; text-decoration-color: #00af00\">18,496</span> │\n",
              "├──────────────────────────────────────┼─────────────────────────────┼─────────────────┤\n",
              "│ max_pooling2d_7 (<span style=\"color: #0087ff; text-decoration-color: #0087ff\">MaxPooling2D</span>)       │ (<span style=\"color: #00d7ff; text-decoration-color: #00d7ff\">None</span>, <span style=\"color: #00af00; text-decoration-color: #00af00\">61</span>, <span style=\"color: #00af00; text-decoration-color: #00af00\">48</span>, <span style=\"color: #00af00; text-decoration-color: #00af00\">64</span>)          │               <span style=\"color: #00af00; text-decoration-color: #00af00\">0</span> │\n",
              "├──────────────────────────────────────┼─────────────────────────────┼─────────────────┤\n",
              "│ conv2d_8 (<span style=\"color: #0087ff; text-decoration-color: #0087ff\">Conv2D</span>)                    │ (<span style=\"color: #00d7ff; text-decoration-color: #00d7ff\">None</span>, <span style=\"color: #00af00; text-decoration-color: #00af00\">59</span>, <span style=\"color: #00af00; text-decoration-color: #00af00\">46</span>, <span style=\"color: #00af00; text-decoration-color: #00af00\">128</span>)         │          <span style=\"color: #00af00; text-decoration-color: #00af00\">73,856</span> │\n",
              "├──────────────────────────────────────┼─────────────────────────────┼─────────────────┤\n",
              "│ max_pooling2d_8 (<span style=\"color: #0087ff; text-decoration-color: #0087ff\">MaxPooling2D</span>)       │ (<span style=\"color: #00d7ff; text-decoration-color: #00d7ff\">None</span>, <span style=\"color: #00af00; text-decoration-color: #00af00\">29</span>, <span style=\"color: #00af00; text-decoration-color: #00af00\">23</span>, <span style=\"color: #00af00; text-decoration-color: #00af00\">128</span>)         │               <span style=\"color: #00af00; text-decoration-color: #00af00\">0</span> │\n",
              "├──────────────────────────────────────┼─────────────────────────────┼─────────────────┤\n",
              "│ flatten_2 (<span style=\"color: #0087ff; text-decoration-color: #0087ff\">Flatten</span>)                  │ (<span style=\"color: #00d7ff; text-decoration-color: #00d7ff\">None</span>, <span style=\"color: #00af00; text-decoration-color: #00af00\">85376</span>)               │               <span style=\"color: #00af00; text-decoration-color: #00af00\">0</span> │\n",
              "├──────────────────────────────────────┼─────────────────────────────┼─────────────────┤\n",
              "│ dense_4 (<span style=\"color: #0087ff; text-decoration-color: #0087ff\">Dense</span>)                      │ (<span style=\"color: #00d7ff; text-decoration-color: #00d7ff\">None</span>, <span style=\"color: #00af00; text-decoration-color: #00af00\">128</span>)                 │      <span style=\"color: #00af00; text-decoration-color: #00af00\">10,928,256</span> │\n",
              "├──────────────────────────────────────┼─────────────────────────────┼─────────────────┤\n",
              "│ dropout_2 (<span style=\"color: #0087ff; text-decoration-color: #0087ff\">Dropout</span>)                  │ (<span style=\"color: #00d7ff; text-decoration-color: #00d7ff\">None</span>, <span style=\"color: #00af00; text-decoration-color: #00af00\">128</span>)                 │               <span style=\"color: #00af00; text-decoration-color: #00af00\">0</span> │\n",
              "├──────────────────────────────────────┼─────────────────────────────┼─────────────────┤\n",
              "│ dense_5 (<span style=\"color: #0087ff; text-decoration-color: #0087ff\">Dense</span>)                      │ (<span style=\"color: #00d7ff; text-decoration-color: #00d7ff\">None</span>, <span style=\"color: #00af00; text-decoration-color: #00af00\">1</span>)                   │             <span style=\"color: #00af00; text-decoration-color: #00af00\">129</span> │\n",
              "└──────────────────────────────────────┴─────────────────────────────┴─────────────────┘\n",
              "</pre>\n"
            ]
          },
          "metadata": {}
        },
        {
          "output_type": "display_data",
          "data": {
            "text/plain": [
              "\u001b[1m Total params: \u001b[0m\u001b[38;5;34m11,021,633\u001b[0m (42.04 MB)\n"
            ],
            "text/html": [
              "<pre style=\"white-space:pre;overflow-x:auto;line-height:normal;font-family:Menlo,'DejaVu Sans Mono',consolas,'Courier New',monospace\"><span style=\"font-weight: bold\"> Total params: </span><span style=\"color: #00af00; text-decoration-color: #00af00\">11,021,633</span> (42.04 MB)\n",
              "</pre>\n"
            ]
          },
          "metadata": {}
        },
        {
          "output_type": "display_data",
          "data": {
            "text/plain": [
              "\u001b[1m Trainable params: \u001b[0m\u001b[38;5;34m11,021,633\u001b[0m (42.04 MB)\n"
            ],
            "text/html": [
              "<pre style=\"white-space:pre;overflow-x:auto;line-height:normal;font-family:Menlo,'DejaVu Sans Mono',consolas,'Courier New',monospace\"><span style=\"font-weight: bold\"> Trainable params: </span><span style=\"color: #00af00; text-decoration-color: #00af00\">11,021,633</span> (42.04 MB)\n",
              "</pre>\n"
            ]
          },
          "metadata": {}
        },
        {
          "output_type": "display_data",
          "data": {
            "text/plain": [
              "\u001b[1m Non-trainable params: \u001b[0m\u001b[38;5;34m0\u001b[0m (0.00 B)\n"
            ],
            "text/html": [
              "<pre style=\"white-space:pre;overflow-x:auto;line-height:normal;font-family:Menlo,'DejaVu Sans Mono',consolas,'Courier New',monospace\"><span style=\"font-weight: bold\"> Non-trainable params: </span><span style=\"color: #00af00; text-decoration-color: #00af00\">0</span> (0.00 B)\n",
              "</pre>\n"
            ]
          },
          "metadata": {}
        }
      ]
    },
    {
      "cell_type": "code",
      "source": [
        "# Converter X_train, X_val e X_test para float32\n",
        "X_train = np.array(X_train, dtype=np.float32)\n",
        "\n",
        "# Certifique-se de que a normalização só é feita uma vez\n",
        "if X_train.max() > 1.0:\n",
        "    X_train = X_train / 255.0\n",
        "    X_val = X_val / 255.0\n",
        "    X_test = X_test / 255.0\n",
        "\n",
        "# Verificar os valores após correção\n",
        "print(f\"Valores em X_train corrigido: min={X_train.min()}, max={X_train.max()}\")\n",
        "\n",
        "\n",
        "# Verificar os valores mínimos e máximos\n",
        "print(f\"Valores em X_train: min={X_train.min()}, max={X_train.max()}\")\n",
        "\n",
        "\n",
        "\n",
        "X_val = np.array(X_val, dtype=np.float32)\n",
        "X_test = np.array(X_test, dtype=np.float32)\n",
        "\n",
        "# Verificar se há valores NaN nos rótulos\n",
        "print(f\"Há NaN em y_train? {np.isnan(y_train).any()}\")\n",
        "print(f\"Valores únicos em y_train: {np.unique(y_train)}\")\n",
        "\n",
        "# Substituir NaN por 0 (ou outro valor padrão)\n",
        "y_train = np.nan_to_num(y_train, nan=0.0)\n",
        "y_val = np.nan_to_num(y_val, nan=0.0)\n",
        "y_test = np.nan_to_num(y_test, nan=0.0)\n",
        "\n",
        "\n",
        "# Converter y_train, y_val e y_test para float32\n",
        "y_train = np.array(y_train, dtype=np.float32)\n",
        "y_val = np.array(y_val, dtype=np.float32)\n",
        "y_test = np.array(y_test, dtype=np.float32)\n",
        "\n",
        "# Verificar as dimensões e tipos\n",
        "print(f\"X_train shape: {X_train.shape}, dtype: {X_train.dtype}\")\n",
        "print(f\"y_train shape: {y_train.shape}, dtype: {y_train.dtype}\")\n",
        "\n",
        "\n",
        "\n",
        "# Configurar callbacks\n",
        "callbacks = [early_stopping]\n",
        "\n",
        "# Treinamento do modelo\n",
        "history = model.fit(\n",
        "    X_train, y_train,\n",
        "    validation_data=(X_val, y_val),\n",
        "    epochs=20,\n",
        "    batch_size=32,\n",
        "    callbacks=callbacks\n",
        ")\n",
        "\n",
        "\n",
        "\n",
        "\n",
        "\n",
        "\n",
        "\n",
        "\n",
        "\n",
        "\n",
        "\n"
      ],
      "metadata": {
        "colab": {
          "base_uri": "https://localhost:8080/"
        },
        "id": "-uUaTStWCZWI",
        "outputId": "3df51699-bf3b-4f41-8ed1-75940b481231"
      },
      "execution_count": 47,
      "outputs": [
        {
          "output_type": "stream",
          "name": "stdout",
          "text": [
            "Valores em X_train corrigido: min=0.0, max=1.5378702300949953e-05\n",
            "Valores em X_train: min=0.0, max=1.5378702300949953e-05\n",
            "Há NaN em y_train? False\n",
            "Valores únicos em y_train: [0. 1.]\n",
            "X_train shape: (94, 200, 250, 3), dtype: float32\n",
            "y_train shape: (94,), dtype: float32\n",
            "Epoch 1/20\n",
            "\u001b[1m3/3\u001b[0m \u001b[32m━━━━━━━━━━━━━━━━━━━━\u001b[0m\u001b[37m\u001b[0m \u001b[1m13s\u001b[0m 5s/step - accuracy: 0.8183 - loss: nan - val_accuracy: 0.7500 - val_loss: nan\n",
            "Epoch 2/20\n",
            "\u001b[1m3/3\u001b[0m \u001b[32m━━━━━━━━━━━━━━━━━━━━\u001b[0m\u001b[37m\u001b[0m \u001b[1m20s\u001b[0m 4s/step - accuracy: 0.8183 - loss: nan - val_accuracy: 0.7500 - val_loss: nan\n",
            "Epoch 3/20\n",
            "\u001b[1m3/3\u001b[0m \u001b[32m━━━━━━━━━━━━━━━━━━━━\u001b[0m\u001b[37m\u001b[0m \u001b[1m13s\u001b[0m 4s/step - accuracy: 0.8144 - loss: nan - val_accuracy: 0.7500 - val_loss: nan\n",
            "Epoch 4/20\n",
            "\u001b[1m3/3\u001b[0m \u001b[32m━━━━━━━━━━━━━━━━━━━━\u001b[0m\u001b[37m\u001b[0m \u001b[1m14s\u001b[0m 5s/step - accuracy: 0.8105 - loss: nan - val_accuracy: 0.7500 - val_loss: nan\n",
            "Epoch 5/20\n",
            "\u001b[1m3/3\u001b[0m \u001b[32m━━━━━━━━━━━━━━━━━━━━\u001b[0m\u001b[37m\u001b[0m \u001b[1m14s\u001b[0m 5s/step - accuracy: 0.8339 - loss: nan - val_accuracy: 0.7500 - val_loss: nan\n"
          ]
        }
      ]
    }
  ]
}